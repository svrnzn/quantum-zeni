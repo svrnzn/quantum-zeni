{
 "cells": [
  {
   "cell_type": "code",
   "execution_count": 207,
   "metadata": {},
   "outputs": [],
   "source": [
    "import numpy as np\n",
    "import pickle\n",
    "import stages\n",
    "import matplotlib.pyplot as plt"
   ]
  },
  {
   "cell_type": "code",
   "execution_count": 208,
   "metadata": {},
   "outputs": [],
   "source": [
    "import stages_config as config\n",
    "\n",
    "states_infty_list = []\n",
    "for sim in config.sim_list:\n",
    "    f = open(f\"data/lambda={sim.lmbd}-Nt={sim.Nt}T={sim.T}-dt={sim.dt}-omega0={sim.omega0}.pkl\", \"rb\")\n",
    "    data = pickle.load(f)\n",
    "    states_infty_list.append(data[1])\n",
    "    f.close()"
   ]
  },
  {
   "cell_type": "code",
   "execution_count": 211,
   "metadata": {},
   "outputs": [
    {
     "name": "stderr",
     "output_type": "stream",
     "text": [
      "/home/seve/Uni/Msc-unitn/Thesis/Zeno/quantum-zeni/stages.py:21: RuntimeWarning: invalid value encountered in power\n",
      "  N = lmbd * np.power(n/d, lmbd/gamma)\n"
     ]
    },
    {
     "data": {
      "image/png": "[encoded data removed]",
      "text/plain": [
       "<Figure size 314.96x236.22 with 1 Axes>"
      ]
     },
     "metadata": {},
     "output_type": "display_data"
    }
   ],
   "source": [
    "for sim, states_infty in zip(config.sim_list, states_infty_list):\n",
    "    thetas = []\n",
    "    for state in states_infty:\n",
    "        thetas.append(stages.state_to_theta(state))\n",
    "\n",
    "    plt.style.use([\"./config/stylelib/thesis.mplstyle\", \"./config/stylelib/manuscript_fullwidth.mplstyle\"])\n",
    "\n",
    "    counts, bins = np.histogram(thetas, 36)\n",
    "    bin_width = bins[1] - bins[0]\n",
    "    freqs = counts / sim.Nt / bin_width\n",
    "\n",
    "    plt.plot(bins[:-1] + bin_width/2, freqs, \".\", label=r\"MC\")\n",
    "    plt.plot(np.arange(-np.pi, np.pi, .01), stages.p_infty(sim.lmbd, np.arange(-np.pi, np.pi, .01)), label=r\"Analitical\")\n",
    "\n",
    "    plt.xlim((-np.pi, np.pi))\n",
    "    xticks = [-np.pi, -np.pi/2, 0, np.pi/2, np.pi]\n",
    "    xlabels = [r\"$-\\pi$\", r\"$-\\pi/2$\", r\"$0$\", r\"$\\pi/2$\", r\"$\\pi$\"]\n",
    "    plt.xticks(xticks, xlabels)\n",
    "    plt.xlabel(r\"$\\theta$\")\n",
    "    plt.ylabel(r\"$P_\\infty(\\theta)$\")\n",
    "    plt.legend()\n",
    "\n",
    "    plt.tight_layout()\n",
    "\n",
    "    plt.savefig(f\"plots/lambda={sim.lmbd}-Nt={sim.Nt}T={sim.T}-dt={sim.dt}-omega0={sim.omega0}.pdf\")"
   ]
  },
  {
   "cell_type": "code",
   "execution_count": null,
   "metadata": {},
   "outputs": [],
   "source": []
  }
 ],
 "metadata": {
  "kernelspec": {
   "display_name": "Python 3",
   "language": "python",
   "name": "python3"
  },
  "language_info": {
   "codemirror_mode": {
    "name": "ipython",
    "version": 3
   },
   "file_extension": ".py",
   "mimetype": "text/x-python",
   "name": "python",
   "nbconvert_exporter": "python",
   "pygments_lexer": "ipython3",
   "version": "3.12.2"
  }
 },
 "nbformat": 4,
 "nbformat_minor": 2
}
