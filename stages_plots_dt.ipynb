{
 "cells": [
  {
   "cell_type": "code",
   "execution_count": 9,
   "metadata": {},
   "outputs": [],
   "source": [
    "import numpy as np\n",
    "import qutip\n",
    "import pickle\n",
    "import stages"
   ]
  },
  {
   "cell_type": "code",
   "execution_count": 10,
   "metadata": {},
   "outputs": [],
   "source": [
    "lmbd_1 = .7\n",
    "Nt_1 = 10**3\n",
    "T_1 = 10\n",
    "omega0_1 = 1\n",
    "dt_1 = .02\n",
    "\n",
    "f = open(f\"data/lambda={lmbd_1}-Nt={Nt_1}T={T_1}-dt={dt_1}-omega0={omega0_1}.pkl\", \"rb\")\n",
    "states_infty_1 = pickle.load(f)\n",
    "f.close()\n",
    "\n",
    "\n",
    "lmbd_2 = .7\n",
    "Nt_2 = 10**3\n",
    "T_2 = 10\n",
    "omega0_2 = 1\n",
    "dt_2 = .05\n",
    "\n",
    "f = open(f\"data/lambda={lmbd_2}-Nt={Nt_2}T={T_2}-dt={dt_2}-omega0={omega0_2}.pkl\", \"rb\")\n",
    "states_infty_2 = pickle.load(f)\n",
    "f.close()"
   ]
  },
  {
   "cell_type": "code",
   "execution_count": 11,
   "metadata": {},
   "outputs": [],
   "source": [
    "thetas_1 = []\n",
    "for state in states_infty_1:\n",
    "    thetas_1.append(stages.state_to_theta(state))\n",
    "\n",
    "thetas_2 = []\n",
    "for state in states_infty_2:\n",
    "    thetas_2.append(stages.state_to_theta(state))"
   ]
  },
  {
   "cell_type": "code",
   "execution_count": 12,
   "metadata": {},
   "outputs": [
    {
     "data": {
      "image/png": "[encoded data removed]",
      "text/plain": [
       "<Figure size 314.96x236.22 with 1 Axes>"
      ]
     },
     "metadata": {},
     "output_type": "display_data"
    }
   ],
   "source": [
    "import matplotlib.pyplot as plt\n",
    "\n",
    "# a = plt.hist(thetas)\n",
    "plt.style.use([\"./config/stylelib/thesis.mplstyle\", \"./config/stylelib/manuscript_fullwidth.mplstyle\"])\n",
    "\n",
    "counts_1, bins_1 = np.histogram(thetas_1, 36)\n",
    "bin_width = bins_1[1] - bins_1[0]\n",
    "freqs_1 = counts_1 / Nt_1 / bin_width\n",
    "\n",
    "counts_2, bins_2 = np.histogram(thetas_2, 36)\n",
    "freqs_2 = counts_2 / Nt_2 / bin_width\n",
    "\n",
    "plt.plot(bins_1[:-1] + bin_width/2, freqs_1, \".\", label=fr\"$\\lambda={lmbd_1}$, $dt={dt_1}$\")\n",
    "plt.plot(bins_2[:-1] + bin_width/2, freqs_2, \".\", label=fr\"$\\lambda={lmbd_2}$, $dt={dt_2}$\")\n",
    "plt.plot(np.arange(-np.pi, np.pi, .01), stages.p_infty(lmbd_1, np.arange(-np.pi, np.pi, .01)), label=fr\"$\\lambda={lmbd_1}$, $dt={dt_1}$\")\n",
    "plt.plot(np.arange(-np.pi, np.pi, .01), stages.p_infty(lmbd_2, np.arange(-np.pi, np.pi, .01)), label=fr\"$\\lambda={lmbd_2}$, $dt={dt_2}$\")\n",
    "\n",
    "plt.xlim((-np.pi, np.pi))\n",
    "xticks = [-np.pi, -np.pi/2, 0, np.pi/2, np.pi]\n",
    "xlabels = [r\"$-\\pi$\", r\"$-\\pi/2$\", r\"$0$\", r\"$\\pi/2$\", r\"$\\pi$\"]\n",
    "plt.xticks(xticks, xlabels)\n",
    "plt.xlabel(r\"$\\theta$\")\n",
    "plt.ylabel(r\"$P_\\infty(\\theta)$\")\n",
    "plt.legend()\n",
    "\n",
    "plt.tight_layout()\n",
    "\n",
    "plt.savefig(f\"plots/multiple-dt.pdf\")"
   ]
  },
  {
   "cell_type": "code",
   "execution_count": null,
   "metadata": {},
   "outputs": [],
   "source": []
  }
 ],
 "metadata": {
  "kernelspec": {
   "display_name": "Python 3",
   "language": "python",
   "name": "python3"
  },
  "language_info": {
   "codemirror_mode": {
    "name": "ipython",
    "version": 3
   },
   "file_extension": ".py",
   "mimetype": "text/x-python",
   "name": "python",
   "nbconvert_exporter": "python",
   "pygments_lexer": "ipython3",
   "version": "3.12.2"
  }
 },
 "nbformat": 4,
 "nbformat_minor": 2
}
