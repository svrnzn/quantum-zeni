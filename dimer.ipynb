{
 "cells": [
  {
   "cell_type": "code",
   "execution_count": null,
   "metadata": {},
   "outputs": [],
   "source": [
    "import numpy as np\n",
    "import qutip\n",
    "import dimer\n",
    "from pickle import load\n",
    "import matplotlib.pyplot as plt\n",
    "\n",
    "plt.style.use([\"./config/stylelib/thesis.mplstyle\"])"
   ]
  },
  {
   "cell_type": "code",
   "execution_count": null,
   "metadata": {},
   "outputs": [],
   "source": [
    "lmbd_1_list = [0, .7, 1.1, 2/np.sqrt(3), 1.5, 3]\n",
    "lmbd_2_list = [0, .7, 1.1, 2/np.sqrt(3), 3., 3.2]\n",
    "ntraj_list= [10**2]\n",
    "omega_S_list = [1]\n",
    "\n",
    "T_list = [100]\n",
    "dt_eval_list = [T/2/100 for T in T_list]\n",
    "t_eval_list = [np.arange(T/2, T+dt_eval, dt_eval)\n",
    "               for T, dt_eval in zip(T_list, dt_eval_list)]\n",
    "\n",
    "solver = \"mcsolve\"\n",
    "# solver = \"mcsolve\"\n",
    "if solver == \"mcsolve\":\n",
    "    dt_list = [None]\n",
    "elif solver == \"trsolve\":\n",
    "    dt_list = [0.01]\n",
    "\n",
    "no_click = False\n",
    "\n",
    "psi0_list = [qutip.tensor(qutip.basis(2, 1), qutip.basis(2, 1))]\n",
    "\n",
    "sim_list = dimer.get_sim_list(lmbd_1_list,\n",
    "                              lmbd_2_list,\n",
    "                              omega_S_list,\n",
    "                              psi0_list,\n",
    "                              t_eval_list,\n",
    "                              ntraj_list,\n",
    "                              dt_list,\n",
    "                              solver,\n",
    "                              no_click)"
   ]
  },
  {
   "cell_type": "code",
   "execution_count": null,
   "metadata": {},
   "outputs": [],
   "source": [
    "data = []\n",
    "for sp in sim_list:\n",
    "    f = open(f\"data/{str(sp)}.pkl\", \"rb\")\n",
    "    data.append(load(f))\n",
    "    f.close()"
   ]
  },
  {
   "cell_type": "code",
   "execution_count": null,
   "metadata": {},
   "outputs": [],
   "source": [
    "N_bins = 36\n",
    "rs = []\n",
    "thetas = []\n",
    "for i, sim in enumerate(sim_list):\n",
    "    states = np.array(data[i][1].states, dtype=object).flatten()\n",
    "    r = np.empty(len(states))\n",
    "    t = np.empty(len(states))\n",
    "    for j, psi in enumerate(states):\n",
    "        pstate = psi.ptrace(0)\n",
    "        r[j], t[j] = dimer.pstate_to_yz_bloch(pstate)\n",
    "    rs.append(r)\n",
    "    thetas.append(t)"
   ]
  },
  {
   "cell_type": "code",
   "execution_count": null,
   "metadata": {},
   "outputs": [],
   "source": [
    "hist_range = (-np.pi, np.pi)\n",
    "\n",
    "histograms = []\n",
    "for i, sim in enumerate(sim_list):\n",
    "    histograms.append(np.histogram(thetas[i], N_bins, range=hist_range, density=True))"
   ]
  },
  {
   "cell_type": "code",
   "execution_count": null,
   "metadata": {},
   "outputs": [],
   "source": [
    "for i, sim in enumerate(sim_list):\n",
    "    plt.figure()\n",
    "\n",
    "    # plt.hist(thetas[i], bins=N_bins, range=hist_range, density=True)\n",
    "\n",
    "    freqs, bin_edges = histograms[i]\n",
    "    bin_centers = (bin_edges[:-1] + bin_edges[1:]) / 2\n",
    "    plt.plot(bin_centers, freqs, \".\")\n",
    "\n",
    "    plt.title(rf\"$\\lambda_1 = {sim.lmbd_1}$, $\\lambda_2 = {sim.lmbd_2}$\")"
   ]
  },
  {
   "cell_type": "code",
   "execution_count": null,
   "metadata": {},
   "outputs": [],
   "source": []
  }
 ],
 "metadata": {
  "kernelspec": {
   "display_name": "Python 3",
   "language": "python",
   "name": "python3"
  },
  "language_info": {
   "codemirror_mode": {
    "name": "ipython",
    "version": 3
   },
   "file_extension": ".py",
   "mimetype": "text/x-python",
   "name": "python",
   "nbconvert_exporter": "python",
   "pygments_lexer": "ipython3",
   "version": "3.11.9"
  }
 },
 "nbformat": 4,
 "nbformat_minor": 2
}
