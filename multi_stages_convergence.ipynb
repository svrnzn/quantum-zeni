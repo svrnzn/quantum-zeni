{
 "cells": [
  {
   "cell_type": "code",
   "execution_count": 1,
   "metadata": {},
   "outputs": [],
   "source": [
    "import numpy as np\n",
    "import qutip\n",
    "import pickle\n",
    "import multi_stages as ms\n",
    "import stages\n",
    "import matplotlib.pyplot as plt"
   ]
  },
  {
   "cell_type": "code",
   "execution_count": 2,
   "metadata": {},
   "outputs": [],
   "source": [
    "import multi_stages_config as config\n",
    "import copy\n",
    "\n",
    "sim_list = config.sim_list + copy.deepcopy(config.sim_list)\n",
    "sim_list[0].T = 10\n",
    "\n",
    "\n",
    "states_infty_list = []\n",
    "pstates_infty_list = []\n",
    "for sim in sim_list:\n",
    "    f = open(f\"data/Ns={sim.Ns}-lambda={sim.lmbd}-Nt={sim.Nt}T={sim.T}-dt={sim.dt}.pkl\", \"rb\")\n",
    "    data = pickle.load(f)\n",
    "    f.close()\n",
    "\n",
    "    states_infty_list.append(data[1])\n",
    "\n",
    "    pstates_infty = []\n",
    "    for state in data[1]:\n",
    "        pstate = state.ptrace(0)\n",
    "        pstates_infty.append(pstate)\n",
    "    pstates_infty_list.append(pstates_infty)\n"
   ]
  },
  {
   "cell_type": "code",
   "execution_count": 3,
   "metadata": {},
   "outputs": [],
   "source": [
    "# b = qutip.Bloch()\n",
    "# b.add_states(pstates_infty_list[0])\n",
    "# b.show()\n"
   ]
  },
  {
   "cell_type": "code",
   "execution_count": 4,
   "metadata": {},
   "outputs": [
    {
     "data": {
      "image/png": "[encoded data removed]",
      "text/plain": [
       "<Figure size 314.96x236.22 with 1 Axes>"
      ]
     },
     "metadata": {},
     "output_type": "display_data"
    }
   ],
   "source": [
    "for sim, pstates_infty in zip(sim_list, pstates_infty_list):\n",
    "    plt.style.use([\"./config/stylelib/thesis.mplstyle\", \"./config/stylelib/manuscript_fullwidth.mplstyle\"])\n",
    "    # plt.figure()\n",
    "\n",
    "    thetas = []\n",
    "    for pstate in pstates_infty:\n",
    "        thetas.append(stages.state_to_theta(pstate))\n",
    "\n",
    "    counts, bins = np.histogram(thetas, 36)\n",
    "    bin_width = bins[1] - bins[0]\n",
    "    freqs = counts / sim.Nt / bin_width\n",
    "\n",
    "    plt.plot(bins[:-1] + bin_width/2, freqs, \".\", label=rf\"$T = {sim.T}$\")\n",
    "    # plt.plot(np.arange(-np.pi, np.pi, .01), stages.p_infty(sim.lmbd, np.arange(-np.pi, np.pi, .01)), label=r\"Analitical\")\n",
    "\n",
    "    plt.xlim((-np.pi, np.pi))\n",
    "    xticks = [-np.pi, -np.pi/2, 0, np.pi/2, np.pi]\n",
    "    xlabels = [r\"$-\\pi$\", r\"$-\\pi/2$\", r\"$0$\", r\"$\\pi/2$\", r\"$\\pi$\"]\n",
    "    plt.xticks(xticks, xlabels)\n",
    "    plt.xlabel(r\"$\\theta$\")\n",
    "    plt.ylabel(r\"$P_\\infty(\\theta)$\")\n",
    "    plt.legend()\n",
    "    plt.title(rf\"$\\lambda = {sim.lmbd}$\")\n",
    "\n",
    "    plt.tight_layout()\n",
    "\n",
    "    plt.savefig(f\"plots/Ns={sim.Ns}-lambda={sim.lmbd}-Nt={sim.Nt}T={sim.T}-dt={sim.dt}.pdf\")"
   ]
  },
  {
   "cell_type": "code",
   "execution_count": 5,
   "metadata": {},
   "outputs": [
    {
     "data": {
      "image/png": "[encoded data removed]",
      "text/plain": [
       "<Figure size 314.96x236.22 with 1 Axes>"
      ]
     },
     "metadata": {},
     "output_type": "display_data"
    },
    {
     "data": {
      "image/png": "[encoded data removed]",
      "text/plain": [
       "<Figure size 314.96x236.22 with 1 Axes>"
      ]
     },
     "metadata": {},
     "output_type": "display_data"
    }
   ],
   "source": [
    "for sim, pstates_infty in zip(sim_list, pstates_infty_list):\n",
    "    plt.style.use([\"./config/stylelib/thesis.mplstyle\", \"./config/stylelib/manuscript_fullwidth.mplstyle\"])\n",
    "    plt.figure()\n",
    "\n",
    "    trace_rho2 = []\n",
    "    for pstate in pstates_infty:\n",
    "        rho2 = pstate * pstate\n",
    "        trace_rho2.append(rho2.tr())\n",
    "\n",
    "    counts, bins = np.histogram(trace_rho2, 36)\n",
    "    bin_width = bins[1] - bins[0]\n",
    "    freqs = counts / sim.Nt / bin_width\n",
    "\n",
    "    plt.plot(bins[:-1] + bin_width/2, freqs, \".\", label=r\"MC\")\n",
    "    # plt.plot(np.arange(-np.pi, np.pi, .01), stages.p_infty(sim.lmbd, np.arange(-np.pi, np.pi, .01)), label=r\"Analitical\")\n",
    "\n",
    "    # plt.xlim((-np.pi, np.pi))\n",
    "    xticks = [-np.pi, -np.pi/2, 0, np.pi/2, np.pi]\n",
    "    xlabels = [r\"$-\\pi$\", r\"$-\\pi/2$\", r\"$0$\", r\"$\\pi/2$\", r\"$\\pi$\"]\n",
    "    # plt.xticks(xticks, xlabels)\n",
    "    plt.xlabel(r\"$Tr(\\rho^2)$\")\n",
    "    plt.ylabel(r\"$P_\\infty(Tr(\\rho^2))$\")\n",
    "    # plt.legend()\n",
    "    plt.title(rf\"$\\lambda = {sim.lmbd}$\")\n",
    "\n",
    "    plt.tight_layout()\n",
    "\n",
    "    plt.savefig(f\"plots/TrRho2-Ns={sim.Ns}-lambda={sim.lmbd}-Nt={sim.Nt}T={sim.T}-dt={sim.dt}.pdf\")"
   ]
  },
  {
   "cell_type": "code",
   "execution_count": 6,
   "metadata": {},
   "outputs": [
    {
     "data": {
      "text/plain": [
       "10"
      ]
     },
     "execution_count": 6,
     "metadata": {},
     "output_type": "execute_result"
    }
   ],
   "source": [
    "sim_list[0].T"
   ]
  },
  {
   "cell_type": "code",
   "execution_count": null,
   "metadata": {},
   "outputs": [],
   "source": []
  }
 ],
 "metadata": {
  "kernelspec": {
   "display_name": "Python 3",
   "language": "python",
   "name": "python3"
  },
  "language_info": {
   "codemirror_mode": {
    "name": "ipython",
    "version": 3
   },
   "file_extension": ".py",
   "mimetype": "text/x-python",
   "name": "python",
   "nbconvert_exporter": "python",
   "pygments_lexer": "ipython3",
   "version": "3.12.2"
  }
 },
 "nbformat": 4,
 "nbformat_minor": 2
}
