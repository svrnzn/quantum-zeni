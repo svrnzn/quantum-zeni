{
 "cells": [
  {
   "cell_type": "code",
   "execution_count": 1,
   "metadata": {},
   "outputs": [],
   "source": [
    "import numpy as np\n",
    "import qutip\n",
    "import dimer\n",
    "import matplotlib.pyplot as plt"
   ]
  },
  {
   "cell_type": "code",
   "execution_count": 2,
   "metadata": {},
   "outputs": [],
   "source": [
    "# Statistics\n",
    "ntraj = 10**2\n",
    "\n",
    "# Physical parameters.\n",
    "lambdas = [[.25, .25],\n",
    "           [.25, 1.75],\n",
    "           [1.25, .25]]\n",
    "\n",
    "omega_S = 1\n",
    "dt = 0.01\n",
    "T = 20\n",
    "t_eval = np.array([0, T])\n",
    "\n",
    "# solver = \"trsolve\"\n",
    "solver = \"mcsolve\"\n",
    "# solver = \"gutzwiller\"\n",
    "\n",
    "store_states = False\n",
    "compute_eentropy = False\n",
    "compute_fidelity = False\n",
    "\n",
    "no_click = False\n",
    "\n",
    "psi0 = qutip.tensor(qutip.basis(2, 1), qutip.basis(2, 1))"
   ]
  },
  {
   "cell_type": "code",
   "execution_count": 3,
   "metadata": {},
   "outputs": [],
   "source": [
    "sim_list = dimer.get_sim_list(lambdas,\n",
    "                              omega_S,\n",
    "                              psi0,\n",
    "                              t_eval,\n",
    "                              ntraj,\n",
    "                              dt,\n",
    "                              solver,\n",
    "                              no_click)"
   ]
  },
  {
   "cell_type": "code",
   "execution_count": 4,
   "metadata": {},
   "outputs": [],
   "source": [
    "data = []\n",
    "\n",
    "for sim in sim_list:\n",
    "    f = open(f\"data/{str(sim)}.npz\", \"rb\")\n",
    "    data.append(np.load(f))\n",
    "    # f.close()"
   ]
  },
  {
   "cell_type": "code",
   "execution_count": 5,
   "metadata": {},
   "outputs": [
    {
     "data": {
      "image/png": "[encoded data removed]",
      "text/plain": [
       "<Figure size 590.55x236.22 with 3 Axes>"
      ]
     },
     "metadata": {},
     "output_type": "display_data"
    }
   ],
   "source": [
    "plt.style.use([\"./config/stylelib/thesis.mplstyle\", \"./config/stylelib/manuscript_grid_1x3.mplstyle\"])\n",
    "\n",
    "bins = 72\n",
    "binning_range = [[-np.pi, np.pi], [-np.pi, np.pi]]\n",
    "ticks = np.linspace(-np.pi, np.pi, 3)\n",
    "tick_labels = [r\"$-\\pi$\", r\"$0$\", r\"$\\pi$\"]\n",
    "\n",
    "fig, axs = plt.subplots(1, 3)\n",
    "for i, sim in enumerate(sim_list):\n",
    "    tl = data[i]['bloch_coords'][:-1,0,1]\n",
    "    tr = data[i]['bloch_coords'][:-1,1,1]\n",
    "    \n",
    "    axs[i].hist2d(tl, tr,\n",
    "                  density=True,\n",
    "                  range=binning_range,\n",
    "                  bins=bins,\n",
    "                  norm=\"log\")\n",
    "    axs[i].set_xticks(ticks)\n",
    "    axs[i].set_xticklabels(tick_labels)\n",
    "    axs[i].set_yticks(ticks)\n",
    "    axs[i].set_yticklabels(tick_labels)\n",
    "    axs[i].set_title(rf\"$\\lambda_1 = {sim.lmbd_1}$, $\\lambda_2 = {sim.lmbd_2}$\")\n",
    "    axs[i].set(xlabel=r\"$\\theta_\\mathrm{L}$\", ylabel=r\"$\\theta_\\mathrm{R}$\")\n",
    "    axs[i].set(aspect='equal')\n",
    "\n",
    "# Hide x labels and tick labels for top plots and y ticks for right plots.\n",
    "for ax in axs.flat:\n",
    "    ax.label_outer()\n",
    "\n",
    "# plt.savefig(\"plots/dimer-full-p-infty-mc.pdf\")"
   ]
  },
  {
   "cell_type": "code",
   "execution_count": null,
   "metadata": {},
   "outputs": [],
   "source": []
  }
 ],
 "metadata": {
  "kernelspec": {
   "display_name": "venv",
   "language": "python",
   "name": "python3"
  },
  "language_info": {
   "codemirror_mode": {
    "name": "ipython",
    "version": 3
   },
   "file_extension": ".py",
   "mimetype": "text/x-python",
   "name": "python",
   "nbconvert_exporter": "python",
   "pygments_lexer": "ipython3",
   "version": "3.12.7"
  }
 },
 "nbformat": 4,
 "nbformat_minor": 2
}
